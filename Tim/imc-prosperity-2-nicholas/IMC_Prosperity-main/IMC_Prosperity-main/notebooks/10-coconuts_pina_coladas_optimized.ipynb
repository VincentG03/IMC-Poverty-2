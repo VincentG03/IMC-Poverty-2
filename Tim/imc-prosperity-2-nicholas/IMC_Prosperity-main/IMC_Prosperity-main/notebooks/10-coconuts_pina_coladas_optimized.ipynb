{
 "cells": [
  {
   "cell_type": "code",
   "execution_count": 1,
   "metadata": {},
   "outputs": [],
   "source": [
    "import os \n",
    "if 'notebooks' in os.getcwd():\n",
    "    os.chdir(\"..\")\n",
    "\n",
    "import pandas as pd\n",
    "import numpy as np\n",
    "import matplotlib.pyplot as plt\n",
    "\n",
    "from typing import Dict, List, Tuple"
   ]
  },
  {
   "cell_type": "code",
   "execution_count": 2,
   "metadata": {},
   "outputs": [],
   "source": [
    "prices = dict()\n",
    "\n",
    "prices[1] = pd.read_csv(\n",
    "    \"data/round2/prices_round_2_day_-1.csv\",\n",
    "    sep = ';'\n",
    ").set_index(\"timestamp\")\n",
    "\n",
    "prices[2] = pd.read_csv(\n",
    "    \"data/round3/prices_round_3_day_0.csv\",\n",
    "    sep = ';'\n",
    ").set_index(\"timestamp\")\n",
    "\n",
    "# prices[3] = pd.read_csv(\n",
    "#     \"data/round3/prices_round_3_day_1.csv\",\n",
    "#     sep = ';'\n",
    "# ).set_index(\"timestamp\")\n",
    "\n",
    "# prices[4] = pd.read_csv(\n",
    "#     \"data/round4/prices_round_4_day_2.csv\",\n",
    "#     sep = ';'\n",
    "# ).set_index(\"timestamp\")"
   ]
  },
  {
   "cell_type": "code",
   "execution_count": 9,
   "metadata": {},
   "outputs": [],
   "source": [
    "from sklearn.linear_model import LinearRegression, Lasso"
   ]
  },
  {
   "cell_type": "code",
   "execution_count": 12,
   "metadata": {},
   "outputs": [],
   "source": [
    "coefs : List = []\n",
    "for idx in prices.keys():\n",
    "    coconuts_2 =  prices[idx].query(\"product == 'COCONUTS'\")\\\n",
    "        .mid_price\n",
    "\n",
    "    pina_coladas = prices[idx].query(\"product == 'PINA_COLADAS'\")\\\n",
    "        .mid_price\n",
    "    \n",
    "    model = LinearRegression()\n",
    "    model.fit(pd.DataFrame(coconuts_2), pina_coladas)\n",
    "\n",
    "    coefs.append(model.coef_)"
   ]
  },
  {
   "cell_type": "code",
   "execution_count": 13,
   "metadata": {},
   "outputs": [
    {
     "data": {
      "text/plain": [
       "1.9757682218921078"
      ]
     },
     "execution_count": 13,
     "metadata": {},
     "output_type": "execute_result"
    }
   ],
   "source": [
    "np.mean(coefs)"
   ]
  },
  {
   "cell_type": "code",
   "execution_count": null,
   "metadata": {},
   "outputs": [],
   "source": []
  },
  {
   "cell_type": "code",
   "execution_count": 6,
   "metadata": {},
   "outputs": [
    {
     "data": {
      "text/plain": [
       "LinearRegression()"
      ]
     },
     "execution_count": 6,
     "metadata": {},
     "output_type": "execute_result"
    }
   ],
   "source": [
    "model = LinearRegression(fit_intercept=True)\n",
    "model.fit(pd.DataFrame(coconuts_2), pina_coladas)"
   ]
  },
  {
   "cell_type": "code",
   "execution_count": 7,
   "metadata": {},
   "outputs": [
    {
     "data": {
      "text/plain": [
       "array([2.15883651])"
      ]
     },
     "execution_count": 7,
     "metadata": {},
     "output_type": "execute_result"
    }
   ],
   "source": [
    "model.coef_"
   ]
  },
  {
   "cell_type": "code",
   "execution_count": null,
   "metadata": {},
   "outputs": [],
   "source": []
  }
 ],
 "metadata": {
  "kernelspec": {
   "display_name": "base",
   "language": "python",
   "name": "python3"
  },
  "language_info": {
   "codemirror_mode": {
    "name": "ipython",
    "version": 3
   },
   "file_extension": ".py",
   "mimetype": "text/x-python",
   "name": "python",
   "nbconvert_exporter": "python",
   "pygments_lexer": "ipython3",
   "version": "3.9.13"
  },
  "orig_nbformat": 4
 },
 "nbformat": 4,
 "nbformat_minor": 2
}
