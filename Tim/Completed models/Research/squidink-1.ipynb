{
 "cells": [
  {
   "cell_type": "markdown",
   "id": "12bd2e3c",
   "metadata": {},
   "source": [
    "# imports "
   ]
  },
  {
   "cell_type": "code",
   "execution_count": 1,
   "id": "6685abf6",
   "metadata": {
    "ExecuteTime": {
     "end_time": "2024-05-20T02:36:22.595605Z",
     "start_time": "2024-05-20T02:36:12.977108Z"
    }
   },
   "outputs": [],
   "source": [
    "import pandas as pd\n",
    "import matplotlib.pyplot as plt\n",
    "import numpy as np\n",
    "import plotly.graph_objects as go\n",
    "import plotly.express as px\n",
    "import statistics as st"
   ]
  },
  {
   "cell_type": "code",
   "execution_count": 2,
   "id": "774c2db1",
   "metadata": {
    "ExecuteTime": {
     "end_time": "2024-04-10T20:54:18.507110Z",
     "start_time": "2024-04-10T20:54:18.499879Z"
    }
   },
   "outputs": [],
   "source": [
    "pd.options.display.max_rows = 500"
   ]
  },
  {
   "cell_type": "markdown",
   "id": "0f0929b9",
   "metadata": {},
   "source": [
    "# load data"
   ]
  },
  {
   "cell_type": "code",
   "execution_count": 3,
   "id": "44e327da",
   "metadata": {
    "ExecuteTime": {
     "end_time": "2024-04-10T21:44:39.808447Z",
     "start_time": "2024-04-10T21:44:39.749352Z"
    }
   },
   "outputs": [],
   "source": [
    "\n",
    "def get_df(day):\n",
    "    file_name = f\"prices_round_1_day_{day}.csv\"\n",
    "    df = pd.read_csv(file_name, sep=';')\n",
    "    df['timestamp'] = df['timestamp'] + 1_000_000 * (day - 1)\n",
    "    return df\n",
    "\n",
    "def get_trades_df(day):\n",
    "    file_name = f\"trades_round_1_day_{day}.csv\"\n",
    "    return pd.read_csv(file_name, sep=';')\n",
    "\n",
    "def get_product(df, product):\n",
    "    return df[df['product'] == product].copy()\n",
    "\n",
    "def get_first_three_dfs():\n",
    "    first_df = get_df(-2)\n",
    "    second_df = get_df(-1)\n",
    "    third_df = get_df(0)\n",
    "    return pd.concat([first_df, second_df, third_df])\n",
    "\n",
    "day = -1\n",
    "market_data = pd.read_csv(f\"prices_round_1_day_{day}.csv\")\n",
    "trade_history = pd.read_csv(f\"trades_round_1_day_{day}.csv\")"
   ]
  },
  {
   "cell_type": "code",
   "execution_count": 4,
   "id": "ac15f862",
   "metadata": {
    "ExecuteTime": {
     "end_time": "2024-04-10T21:44:42.600649Z",
     "start_time": "2024-04-10T21:44:42.566824Z"
    }
   },
   "outputs": [],
   "source": [
    "market_data = pd.read_csv(f\"prices_round_1_day_{day}.csv\", sep=';')"
   ]
  },
  {
   "cell_type": "code",
   "execution_count": 5,
   "id": "a1810700",
   "metadata": {},
   "outputs": [
    {
     "name": "stdout",
     "output_type": "stream",
     "text": [
      "Index(['day', 'timestamp', 'product', 'bid_price_1', 'bid_volume_1',\n",
      "       'bid_price_2', 'bid_volume_2', 'bid_price_3', 'bid_volume_3',\n",
      "       'ask_price_1', 'ask_volume_1', 'ask_price_2', 'ask_volume_2',\n",
      "       'ask_price_3', 'ask_volume_3', 'mid_price', 'profit_and_loss'],\n",
      "      dtype='object')\n"
     ]
    }
   ],
   "source": [
    "print(market_data.columns)\n",
    "squid_ink_data = market_data[market_data['product'] == 'SQUID_INK'].reset_index(drop=True)"
   ]
  },
  {
   "cell_type": "markdown",
   "id": "bea00ae5",
   "metadata": {},
   "source": [
    "# research"
   ]
  },
  {
   "cell_type": "code",
   "execution_count": 6,
   "id": "e30855e6",
   "metadata": {
    "ExecuteTime": {
     "end_time": "2024-04-10T21:44:43.279783Z",
     "start_time": "2024-04-10T21:44:43.264440Z"
    }
   },
   "outputs": [],
   "source": [
    "SQUID_INK_data = market_data[market_data['product'] == 'SQUID_INK'].reset_index(drop=True)"
   ]
  },
  {
   "cell_type": "code",
   "execution_count": 7,
   "id": "dcbd7e7f",
   "metadata": {
    "ExecuteTime": {
     "end_time": "2024-04-10T21:44:44.349758Z",
     "start_time": "2024-04-10T21:44:44.341021Z"
    }
   },
   "outputs": [
    {
     "data": {
      "text/plain": [
       "bid_volume_1\n",
       "1     968\n",
       "27    740\n",
       "24    685\n",
       "29    683\n",
       "28    679\n",
       "30    671\n",
       "25    659\n",
       "26    650\n",
       "22    644\n",
       "23    629\n",
       "21    493\n",
       "31    461\n",
       "2     414\n",
       "20    246\n",
       "32    225\n",
       "4     174\n",
       "3     164\n",
       "5     144\n",
       "6     114\n",
       "7     101\n",
       "33     81\n",
       "8      80\n",
       "34     66\n",
       "35     32\n",
       "9      30\n",
       "37     29\n",
       "19     25\n",
       "36     21\n",
       "10     20\n",
       "38     20\n",
       "18     12\n",
       "17     10\n",
       "39      9\n",
       "40      5\n",
       "16      5\n",
       "14      3\n",
       "11      3\n",
       "15      2\n",
       "12      2\n",
       "13      1\n",
       "Name: count, dtype: int64"
      ]
     },
     "execution_count": 7,
     "metadata": {},
     "output_type": "execute_result"
    }
   ],
   "source": [
    "SQUID_INK_data['bid_volume_1'].value_counts()"
   ]
  },
  {
   "cell_type": "code",
   "execution_count": 8,
   "id": "d0c64914",
   "metadata": {
    "ExecuteTime": {
     "end_time": "2024-04-10T21:44:44.847280Z",
     "start_time": "2024-04-10T21:44:44.665694Z"
    },
    "scrolled": false
   },
   "outputs": [
    {
     "data": {
      "image/png": "[encoded data removed]",
      "text/plain": [
       "<Figure size 1000x600 with 1 Axes>"
      ]
     },
     "metadata": {},
     "output_type": "display_data"
    }
   ],
   "source": [
    "# Get the value counts of bid_volume_1\n",
    "bid_volume_counts = SQUID_INK_data['bid_volume_1'].value_counts()\n",
    "\n",
    "# Create a histogram\n",
    "plt.figure(figsize=(10, 6))\n",
    "plt.bar(bid_volume_counts.index, bid_volume_counts.values)\n",
    "plt.xlabel('Bid Volume 1')\n",
    "plt.ylabel('Frequency')\n",
    "plt.title('Histogram of Bid Volume 1')\n",
    "plt.xticks(rotation=45)\n",
    "plt.tight_layout()\n",
    "plt.show()"
   ]
  },
  {
   "cell_type": "code",
   "execution_count": 9,
   "id": "d34b0d98",
   "metadata": {
    "ExecuteTime": {
     "end_time": "2024-04-10T21:44:47.002385Z",
     "start_time": "2024-04-10T21:44:46.067058Z"
    }
   },
   "outputs": [
    {
     "data": {
      "image/png": "[encoded data removed]",
      "text/plain": [
       "<Figure size 1200x1200 with 6 Axes>"
      ]
     },
     "metadata": {},
     "output_type": "display_data"
    }
   ],
   "source": [
    "columns_to_plot = ['bid_volume_1', 'bid_volume_2', 'bid_volume_3',\n",
    "                   'ask_volume_1', 'ask_volume_2', 'ask_volume_3']\n",
    "\n",
    "num_plots = len(columns_to_plot)\n",
    "num_rows = (num_plots + 1) // 2\n",
    "num_cols = 2\n",
    "\n",
    "plt.figure(figsize=(12, 4 * num_rows))\n",
    "\n",
    "for i, column in enumerate(columns_to_plot, start=1):\n",
    "    plt.subplot(num_rows, num_cols, i)\n",
    "    \n",
    "    volume_counts = SQUID_INK_data[column].value_counts()\n",
    "    \n",
    "    plt.bar(volume_counts.index, volume_counts.values)\n",
    "    plt.xlabel(column)\n",
    "    plt.ylabel('Frequency')\n",
    "    plt.title(f'Histogram of {column}')\n",
    "    plt.xticks(rotation=45)\n",
    "    plt.tight_layout(pad=3.0)\n",
    "\n",
    "plt.show()"
   ]
  },
  {
   "cell_type": "code",
   "execution_count": 10,
   "id": "c7848ffc",
   "metadata": {
    "ExecuteTime": {
     "end_time": "2024-04-10T21:44:55.660587Z",
     "start_time": "2024-04-10T21:44:55.516311Z"
    }
   },
   "outputs": [],
   "source": [
    "def calculate_mm_mid(row):\n",
    "    # Find the best bid with volume >= 20\n",
    "    for i in range(1, 4):\n",
    "        if row[f'bid_volume_{i}'] >= 20:\n",
    "            best_bid = row[f'bid_price_{i}']\n",
    "            break\n",
    "    else:\n",
    "        best_bid = None\n",
    "\n",
    "    # Find the best ask with volume >= 20\n",
    "    for i in range(1, 4):\n",
    "        if row[f'ask_volume_{i}'] >= 20:\n",
    "            best_ask = row[f'ask_price_{i}']\n",
    "            break\n",
    "    else:\n",
    "        best_ask = None\n",
    "\n",
    "    # Calculate the mid price if both best bid and ask are found\n",
    "    if best_bid is not None and best_ask is not None:\n",
    "        return (best_bid + best_ask) / 2\n",
    "    else:\n",
    "        return None\n",
    "\n",
    "squid_ink_data['mm_mid'] = squid_ink_data.apply(calculate_mm_mid, axis=1)"
   ]
  },
  {
   "cell_type": "code",
   "execution_count": 11,
   "id": "30c2ede9",
   "metadata": {
    "ExecuteTime": {
     "end_time": "2024-04-10T21:44:55.952682Z",
     "start_time": "2024-04-10T21:44:55.918310Z"
    }
   },
   "outputs": [
    {
     "data": {
      "text/html": [
       "<div>\n",
       "<style scoped>\n",
       "    .dataframe tbody tr th:only-of-type {\n",
       "        vertical-align: middle;\n",
       "    }\n",
       "\n",
       "    .dataframe tbody tr th {\n",
       "        vertical-align: top;\n",
       "    }\n",
       "\n",
       "    .dataframe thead th {\n",
       "        text-align: right;\n",
       "    }\n",
       "</style>\n",
       "<table border=\"1\" class=\"dataframe\">\n",
       "  <thead>\n",
       "    <tr style=\"text-align: right;\">\n",
       "      <th></th>\n",
       "      <th>day</th>\n",
       "      <th>timestamp</th>\n",
       "      <th>product</th>\n",
       "      <th>bid_price_1</th>\n",
       "      <th>bid_volume_1</th>\n",
       "      <th>bid_price_2</th>\n",
       "      <th>bid_volume_2</th>\n",
       "      <th>bid_price_3</th>\n",
       "      <th>bid_volume_3</th>\n",
       "      <th>ask_price_1</th>\n",
       "      <th>ask_volume_1</th>\n",
       "      <th>ask_price_2</th>\n",
       "      <th>ask_volume_2</th>\n",
       "      <th>ask_price_3</th>\n",
       "      <th>ask_volume_3</th>\n",
       "      <th>mid_price</th>\n",
       "      <th>profit_and_loss</th>\n",
       "      <th>mm_mid</th>\n",
       "    </tr>\n",
       "  </thead>\n",
       "  <tbody>\n",
       "    <tr>\n",
       "      <th>0</th>\n",
       "      <td>-1</td>\n",
       "      <td>0</td>\n",
       "      <td>SQUID_INK</td>\n",
       "      <td>2005</td>\n",
       "      <td>1</td>\n",
       "      <td>2002.0</td>\n",
       "      <td>31.0</td>\n",
       "      <td>NaN</td>\n",
       "      <td>NaN</td>\n",
       "      <td>2006</td>\n",
       "      <td>31</td>\n",
       "      <td>NaN</td>\n",
       "      <td>NaN</td>\n",
       "      <td>NaN</td>\n",
       "      <td>NaN</td>\n",
       "      <td>2005.5</td>\n",
       "      <td>0.0</td>\n",
       "      <td>2004.0</td>\n",
       "    </tr>\n",
       "    <tr>\n",
       "      <th>1</th>\n",
       "      <td>-1</td>\n",
       "      <td>100</td>\n",
       "      <td>SQUID_INK</td>\n",
       "      <td>2004</td>\n",
       "      <td>24</td>\n",
       "      <td>NaN</td>\n",
       "      <td>NaN</td>\n",
       "      <td>NaN</td>\n",
       "      <td>NaN</td>\n",
       "      <td>2007</td>\n",
       "      <td>24</td>\n",
       "      <td>NaN</td>\n",
       "      <td>NaN</td>\n",
       "      <td>NaN</td>\n",
       "      <td>NaN</td>\n",
       "      <td>2005.5</td>\n",
       "      <td>0.0</td>\n",
       "      <td>2005.5</td>\n",
       "    </tr>\n",
       "    <tr>\n",
       "      <th>2</th>\n",
       "      <td>-1</td>\n",
       "      <td>200</td>\n",
       "      <td>SQUID_INK</td>\n",
       "      <td>2003</td>\n",
       "      <td>22</td>\n",
       "      <td>NaN</td>\n",
       "      <td>NaN</td>\n",
       "      <td>NaN</td>\n",
       "      <td>NaN</td>\n",
       "      <td>2006</td>\n",
       "      <td>20</td>\n",
       "      <td>NaN</td>\n",
       "      <td>NaN</td>\n",
       "      <td>NaN</td>\n",
       "      <td>NaN</td>\n",
       "      <td>2004.5</td>\n",
       "      <td>0.0</td>\n",
       "      <td>2004.5</td>\n",
       "    </tr>\n",
       "    <tr>\n",
       "      <th>3</th>\n",
       "      <td>-1</td>\n",
       "      <td>300</td>\n",
       "      <td>SQUID_INK</td>\n",
       "      <td>2003</td>\n",
       "      <td>31</td>\n",
       "      <td>NaN</td>\n",
       "      <td>NaN</td>\n",
       "      <td>NaN</td>\n",
       "      <td>NaN</td>\n",
       "      <td>2006</td>\n",
       "      <td>31</td>\n",
       "      <td>NaN</td>\n",
       "      <td>NaN</td>\n",
       "      <td>NaN</td>\n",
       "      <td>NaN</td>\n",
       "      <td>2004.5</td>\n",
       "      <td>0.0</td>\n",
       "      <td>2004.5</td>\n",
       "    </tr>\n",
       "    <tr>\n",
       "      <th>4</th>\n",
       "      <td>-1</td>\n",
       "      <td>400</td>\n",
       "      <td>SQUID_INK</td>\n",
       "      <td>2004</td>\n",
       "      <td>27</td>\n",
       "      <td>NaN</td>\n",
       "      <td>NaN</td>\n",
       "      <td>NaN</td>\n",
       "      <td>NaN</td>\n",
       "      <td>2007</td>\n",
       "      <td>27</td>\n",
       "      <td>NaN</td>\n",
       "      <td>NaN</td>\n",
       "      <td>NaN</td>\n",
       "      <td>NaN</td>\n",
       "      <td>2005.5</td>\n",
       "      <td>0.0</td>\n",
       "      <td>2005.5</td>\n",
       "    </tr>\n",
       "    <tr>\n",
       "      <th>...</th>\n",
       "      <td>...</td>\n",
       "      <td>...</td>\n",
       "      <td>...</td>\n",
       "      <td>...</td>\n",
       "      <td>...</td>\n",
       "      <td>...</td>\n",
       "      <td>...</td>\n",
       "      <td>...</td>\n",
       "      <td>...</td>\n",
       "      <td>...</td>\n",
       "      <td>...</td>\n",
       "      <td>...</td>\n",
       "      <td>...</td>\n",
       "      <td>...</td>\n",
       "      <td>...</td>\n",
       "      <td>...</td>\n",
       "      <td>...</td>\n",
       "      <td>...</td>\n",
       "    </tr>\n",
       "    <tr>\n",
       "      <th>9995</th>\n",
       "      <td>-1</td>\n",
       "      <td>999500</td>\n",
       "      <td>SQUID_INK</td>\n",
       "      <td>1971</td>\n",
       "      <td>5</td>\n",
       "      <td>1970.0</td>\n",
       "      <td>31.0</td>\n",
       "      <td>NaN</td>\n",
       "      <td>NaN</td>\n",
       "      <td>1972</td>\n",
       "      <td>6</td>\n",
       "      <td>1973.0</td>\n",
       "      <td>31.0</td>\n",
       "      <td>NaN</td>\n",
       "      <td>NaN</td>\n",
       "      <td>1971.5</td>\n",
       "      <td>0.0</td>\n",
       "      <td>1971.5</td>\n",
       "    </tr>\n",
       "    <tr>\n",
       "      <th>9996</th>\n",
       "      <td>-1</td>\n",
       "      <td>999600</td>\n",
       "      <td>SQUID_INK</td>\n",
       "      <td>1972</td>\n",
       "      <td>5</td>\n",
       "      <td>1971.0</td>\n",
       "      <td>30.0</td>\n",
       "      <td>NaN</td>\n",
       "      <td>NaN</td>\n",
       "      <td>1974</td>\n",
       "      <td>30</td>\n",
       "      <td>NaN</td>\n",
       "      <td>NaN</td>\n",
       "      <td>NaN</td>\n",
       "      <td>NaN</td>\n",
       "      <td>1973.0</td>\n",
       "      <td>0.0</td>\n",
       "      <td>1972.5</td>\n",
       "    </tr>\n",
       "    <tr>\n",
       "      <th>9997</th>\n",
       "      <td>-1</td>\n",
       "      <td>999700</td>\n",
       "      <td>SQUID_INK</td>\n",
       "      <td>1971</td>\n",
       "      <td>26</td>\n",
       "      <td>NaN</td>\n",
       "      <td>NaN</td>\n",
       "      <td>NaN</td>\n",
       "      <td>NaN</td>\n",
       "      <td>1974</td>\n",
       "      <td>26</td>\n",
       "      <td>NaN</td>\n",
       "      <td>NaN</td>\n",
       "      <td>NaN</td>\n",
       "      <td>NaN</td>\n",
       "      <td>1972.5</td>\n",
       "      <td>0.0</td>\n",
       "      <td>1972.5</td>\n",
       "    </tr>\n",
       "    <tr>\n",
       "      <th>9998</th>\n",
       "      <td>-1</td>\n",
       "      <td>999800</td>\n",
       "      <td>SQUID_INK</td>\n",
       "      <td>1972</td>\n",
       "      <td>20</td>\n",
       "      <td>NaN</td>\n",
       "      <td>NaN</td>\n",
       "      <td>NaN</td>\n",
       "      <td>NaN</td>\n",
       "      <td>1975</td>\n",
       "      <td>20</td>\n",
       "      <td>NaN</td>\n",
       "      <td>NaN</td>\n",
       "      <td>NaN</td>\n",
       "      <td>NaN</td>\n",
       "      <td>1973.5</td>\n",
       "      <td>0.0</td>\n",
       "      <td>1973.5</td>\n",
       "    </tr>\n",
       "    <tr>\n",
       "      <th>9999</th>\n",
       "      <td>-1</td>\n",
       "      <td>999900</td>\n",
       "      <td>SQUID_INK</td>\n",
       "      <td>1971</td>\n",
       "      <td>31</td>\n",
       "      <td>NaN</td>\n",
       "      <td>NaN</td>\n",
       "      <td>NaN</td>\n",
       "      <td>NaN</td>\n",
       "      <td>1973</td>\n",
       "      <td>6</td>\n",
       "      <td>1974.0</td>\n",
       "      <td>31.0</td>\n",
       "      <td>NaN</td>\n",
       "      <td>NaN</td>\n",
       "      <td>1972.0</td>\n",
       "      <td>0.0</td>\n",
       "      <td>1972.5</td>\n",
       "    </tr>\n",
       "  </tbody>\n",
       "</table>\n",
       "<p>10000 rows × 18 columns</p>\n",
       "</div>"
      ],
      "text/plain": [
       "      day  timestamp    product  bid_price_1  bid_volume_1  bid_price_2  \\\n",
       "0      -1          0  SQUID_INK         2005             1       2002.0   \n",
       "1      -1        100  SQUID_INK         2004            24          NaN   \n",
       "2      -1        200  SQUID_INK         2003            22          NaN   \n",
       "3      -1        300  SQUID_INK         2003            31          NaN   \n",
       "4      -1        400  SQUID_INK         2004            27          NaN   \n",
       "...   ...        ...        ...          ...           ...          ...   \n",
       "9995   -1     999500  SQUID_INK         1971             5       1970.0   \n",
       "9996   -1     999600  SQUID_INK         1972             5       1971.0   \n",
       "9997   -1     999700  SQUID_INK         1971            26          NaN   \n",
       "9998   -1     999800  SQUID_INK         1972            20          NaN   \n",
       "9999   -1     999900  SQUID_INK         1971            31          NaN   \n",
       "\n",
       "      bid_volume_2  bid_price_3  bid_volume_3  ask_price_1  ask_volume_1  \\\n",
       "0             31.0          NaN           NaN         2006            31   \n",
       "1              NaN          NaN           NaN         2007            24   \n",
       "2              NaN          NaN           NaN         2006            20   \n",
       "3              NaN          NaN           NaN         2006            31   \n",
       "4              NaN          NaN           NaN         2007            27   \n",
       "...            ...          ...           ...          ...           ...   \n",
       "9995          31.0          NaN           NaN         1972             6   \n",
       "9996          30.0          NaN           NaN         1974            30   \n",
       "9997           NaN          NaN           NaN         1974            26   \n",
       "9998           NaN          NaN           NaN         1975            20   \n",
       "9999           NaN          NaN           NaN         1973             6   \n",
       "\n",
       "      ask_price_2  ask_volume_2  ask_price_3  ask_volume_3  mid_price  \\\n",
       "0             NaN           NaN          NaN           NaN     2005.5   \n",
       "1             NaN           NaN          NaN           NaN     2005.5   \n",
       "2             NaN           NaN          NaN           NaN     2004.5   \n",
       "3             NaN           NaN          NaN           NaN     2004.5   \n",
       "4             NaN           NaN          NaN           NaN     2005.5   \n",
       "...           ...           ...          ...           ...        ...   \n",
       "9995       1973.0          31.0          NaN           NaN     1971.5   \n",
       "9996          NaN           NaN          NaN           NaN     1973.0   \n",
       "9997          NaN           NaN          NaN           NaN     1972.5   \n",
       "9998          NaN           NaN          NaN           NaN     1973.5   \n",
       "9999       1974.0          31.0          NaN           NaN     1972.0   \n",
       "\n",
       "      profit_and_loss  mm_mid  \n",
       "0                 0.0  2004.0  \n",
       "1                 0.0  2005.5  \n",
       "2                 0.0  2004.5  \n",
       "3                 0.0  2004.5  \n",
       "4                 0.0  2005.5  \n",
       "...               ...     ...  \n",
       "9995              0.0  1971.5  \n",
       "9996              0.0  1972.5  \n",
       "9997              0.0  1972.5  \n",
       "9998              0.0  1973.5  \n",
       "9999              0.0  1972.5  \n",
       "\n",
       "[10000 rows x 18 columns]"
      ]
     },
     "execution_count": 11,
     "metadata": {},
     "output_type": "execute_result"
    }
   ],
   "source": [
    "squid_ink_data"
   ]
  },
  {
   "cell_type": "code",
   "execution_count": 12,
   "id": "19fe7f56",
   "metadata": {
    "ExecuteTime": {
     "end_time": "2024-04-10T21:44:56.979661Z",
     "start_time": "2024-04-10T21:44:56.888011Z"
    }
   },
   "outputs": [
    {
     "data": {
      "application/vnd.plotly.v1+json": {
       "config": {
        "plotlyServerURL": "https://plot.ly"
       },
       "data": [
        {
         "hovertemplate": "timestamp=%{x}<br>mm_mid=%{y}<extra></extra>",
         "legendgroup": "",
         "line": {
          "color": "#636efa",
          "dash": "solid"
         },
         "marker": {
          "symbol": "circle"
         },
         "mode": "lines",
         "name": "",
         "showlegend": false,
         "type": "scattergl",
         "x": {
          "bdata": "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",
          "dtype": "i4"
         },
         "xaxis": "x",
         "y": {
          "bdata": "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",
          "dtype": "f8"
         },
         "yaxis": "y"
        }
       ],
       "layout": {
        "legend": {
         "tracegroupgap": 0
        },
        "template": {
         "data": {
          "bar": [
           {
            "error_x": {
             "color": "#2a3f5f"
            },
            "error_y": {
             "color": "#2a3f5f"
            },
            "marker": {
             "line": {
              "color": "#E5ECF6",
              "width": 0.5
             },
             "pattern": {
              "fillmode": "overlay",
              "size": 10,
              "solidity": 0.2
             }
            },
            "type": "bar"
           }
          ],
          "barpolar": [
           {
            "marker": {
             "line": {
              "color": "#E5ECF6",
              "width": 0.5
             },
             "pattern": {
              "fillmode": "overlay",
              "size": 10,
              "solidity": 0.2
             }
            },
            "type": "barpolar"
           }
          ],
          "carpet": [
           {
            "aaxis": {
             "endlinecolor": "#2a3f5f",
             "gridcolor": "white",
             "linecolor": "white",
             "minorgridcolor": "white",
             "startlinecolor": "#2a3f5f"
            },
            "baxis": {
             "endlinecolor": "#2a3f5f",
             "gridcolor": "white",
             "linecolor": "white",
             "minorgridcolor": "white",
             "startlinecolor": "#2a3f5f"
            },
            "type": "carpet"
           }
          ],
          "choropleth": [
           {
            "colorbar": {
             "outlinewidth": 0,
             "ticks": ""
            },
            "type": "choropleth"
           }
          ],
          "contour": [
           {
            "colorbar": {
             "outlinewidth": 0,
             "ticks": ""
            },
            "colorscale": [
             [
              0,
              "#0d0887"
             ],
             [
              0.1111111111111111,
              "#46039f"
             ],
             [
              0.2222222222222222,
              "#7201a8"
             ],
             [
              0.3333333333333333,
              "#9c179e"
             ],
             [
              0.4444444444444444,
              "#bd3786"
             ],
             [
              0.5555555555555556,
              "#d8576b"
             ],
             [
              0.6666666666666666,
              "#ed7953"
             ],
             [
              0.7777777777777778,
              "#fb9f3a"
             ],
             [
              0.8888888888888888,
              "#fdca26"
             ],
             [
              1,
              "#f0f921"
             ]
            ],
            "type": "contour"
           }
          ],
          "contourcarpet": [
           {
            "colorbar": {
             "outlinewidth": 0,
             "ticks": ""
            },
            "type": "contourcarpet"
           }
          ],
          "heatmap": [
           {
            "colorbar": {
             "outlinewidth": 0,
             "ticks": ""
            },
            "colorscale": [
             [
              0,
              "#0d0887"
             ],
             [
              0.1111111111111111,
              "#46039f"
             ],
             [
              0.2222222222222222,
              "#7201a8"
             ],
             [
              0.3333333333333333,
              "#9c179e"
             ],
             [
              0.4444444444444444,
              "#bd3786"
             ],
             [
              0.5555555555555556,
              "#d8576b"
             ],
             [
              0.6666666666666666,
              "#ed7953"
             ],
             [
              0.7777777777777778,
              "#fb9f3a"
             ],
             [
              0.8888888888888888,
              "#fdca26"
             ],
             [
              1,
              "#f0f921"
             ]
            ],
            "type": "heatmap"
           }
          ],
          "histogram": [
           {
            "marker": {
             "pattern": {
              "fillmode": "overlay",
              "size": 10,
              "solidity": 0.2
             }
            },
            "type": "histogram"
           }
          ],
          "histogram2d": [
           {
            "colorbar": {
             "outlinewidth": 0,
             "ticks": ""
            },
            "colorscale": [
             [
              0,
              "#0d0887"
             ],
             [
              0.1111111111111111,
              "#46039f"
             ],
             [
              0.2222222222222222,
              "#7201a8"
             ],
             [
              0.3333333333333333,
              "#9c179e"
             ],
             [
              0.4444444444444444,
              "#bd3786"
             ],
             [
              0.5555555555555556,
              "#d8576b"
             ],
             [
              0.6666666666666666,
              "#ed7953"
             ],
             [
              0.7777777777777778,
              "#fb9f3a"
             ],
             [
              0.8888888888888888,
              "#fdca26"
             ],
             [
              1,
              "#f0f921"
             ]
            ],
            "type": "histogram2d"
           }
          ],
          "histogram2dcontour": [
           {
            "colorbar": {
             "outlinewidth": 0,
             "ticks": ""
            },
            "colorscale": [
             [
              0,
              "#0d0887"
             ],
             [
              0.1111111111111111,
              "#46039f"
             ],
             [
              0.2222222222222222,
              "#7201a8"
             ],
             [
              0.3333333333333333,
              "#9c179e"
             ],
             [
              0.4444444444444444,
              "#bd3786"
             ],
             [
              0.5555555555555556,
              "#d8576b"
             ],
             [
              0.6666666666666666,
              "#ed7953"
             ],
             [
              0.7777777777777778,
              "#fb9f3a"
             ],
             [
              0.8888888888888888,
              "#fdca26"
             ],
             [
              1,
              "#f0f921"
             ]
            ],
            "type": "histogram2dcontour"
           }
          ],
          "mesh3d": [
           {
            "colorbar": {
             "outlinewidth": 0,
             "ticks": ""
            },
            "type": "mesh3d"
           }
          ],
          "parcoords": [
           {
            "line": {
             "colorbar": {
              "outlinewidth": 0,
              "ticks": ""
             }
            },
            "type": "parcoords"
           }
          ],
          "pie": [
           {
            "automargin": true,
            "type": "pie"
           }
          ],
          "scatter": [
           {
            "fillpattern": {
             "fillmode": "overlay",
             "size": 10,
             "solidity": 0.2
            },
            "type": "scatter"
           }
          ],
          "scatter3d": [
           {
            "line": {
             "colorbar": {
              "outlinewidth": 0,
              "ticks": ""
             }
            },
            "marker": {
             "colorbar": {
              "outlinewidth": 0,
              "ticks": ""
             }
            },
            "type": "scatter3d"
           }
          ],
          "scattercarpet": [
           {
            "marker": {
             "colorbar": {
              "outlinewidth": 0,
              "ticks": ""
             }
            },
            "type": "scattercarpet"
           }
          ],
          "scattergeo": [
           {
            "marker": {
             "colorbar": {
              "outlinewidth": 0,
              "ticks": ""
             }
            },
            "type": "scattergeo"
           }
          ],
          "scattergl": [
           {
            "marker": {
             "colorbar": {
              "outlinewidth": 0,
              "ticks": ""
             }
            },
            "type": "scattergl"
           }
          ],
          "scattermap": [
           {
            "marker": {
             "colorbar": {
              "outlinewidth": 0,
              "ticks": ""
             }
            },
            "type": "scattermap"
           }
          ],
          "scattermapbox": [
           {
            "marker": {
             "colorbar": {
              "outlinewidth": 0,
              "ticks": ""
             }
            },
            "type": "scattermapbox"
           }
          ],
          "scatterpolar": [
           {
            "marker": {
             "colorbar": {
              "outlinewidth": 0,
              "ticks": ""
             }
            },
            "type": "scatterpolar"
           }
          ],
          "scatterpolargl": [
           {
            "marker": {
             "colorbar": {
              "outlinewidth": 0,
              "ticks": ""
             }
            },
            "type": "scatterpolargl"
           }
          ],
          "scatterternary": [
           {
            "marker": {
             "colorbar": {
              "outlinewidth": 0,
              "ticks": ""
             }
            },
            "type": "scatterternary"
           }
          ],
          "surface": [
           {
            "colorbar": {
             "outlinewidth": 0,
             "ticks": ""
            },
            "colorscale": [
             [
              0,
              "#0d0887"
             ],
             [
              0.1111111111111111,
              "#46039f"
             ],
             [
              0.2222222222222222,
              "#7201a8"
             ],
             [
              0.3333333333333333,
              "#9c179e"
             ],
             [
              0.4444444444444444,
              "#bd3786"
             ],
             [
              0.5555555555555556,
              "#d8576b"
             ],
             [
              0.6666666666666666,
              "#ed7953"
             ],
             [
              0.7777777777777778,
              "#fb9f3a"
             ],
             [
              0.8888888888888888,
              "#fdca26"
             ],
             [
              1,
              "#f0f921"
             ]
            ],
            "type": "surface"
           }
          ],
          "table": [
           {
            "cells": {
             "fill": {
              "color": "#EBF0F8"
             },
             "line": {
              "color": "white"
             }
            },
            "header": {
             "fill": {
              "color": "#C8D4E3"
             },
             "line": {
              "color": "white"
             }
            },
            "type": "table"
           }
          ]
         },
         "layout": {
          "annotationdefaults": {
           "arrowcolor": "#2a3f5f",
           "arrowhead": 0,
           "arrowwidth": 1
          },
          "autotypenumbers": "strict",
          "coloraxis": {
           "colorbar": {
            "outlinewidth": 0,
            "ticks": ""
           }
          },
          "colorscale": {
           "diverging": [
            [
             0,
             "#8e0152"
            ],
            [
             0.1,
             "#c51b7d"
            ],
            [
             0.2,
             "#de77ae"
            ],
            [
             0.3,
             "#f1b6da"
            ],
            [
             0.4,
             "#fde0ef"
            ],
            [
             0.5,
             "#f7f7f7"
            ],
            [
             0.6,
             "#e6f5d0"
            ],
            [
             0.7,
             "#b8e186"
            ],
            [
             0.8,
             "#7fbc41"
            ],
            [
             0.9,
             "#4d9221"
            ],
            [
             1,
             "#276419"
            ]
           ],
           "sequential": [
            [
             0,
             "#0d0887"
            ],
            [
             0.1111111111111111,
             "#46039f"
            ],
            [
             0.2222222222222222,
             "#7201a8"
            ],
            [
             0.3333333333333333,
             "#9c179e"
            ],
            [
             0.4444444444444444,
             "#bd3786"
            ],
            [
             0.5555555555555556,
             "#d8576b"
            ],
            [
             0.6666666666666666,
             "#ed7953"
            ],
            [
             0.7777777777777778,
             "#fb9f3a"
            ],
            [
             0.8888888888888888,
             "#fdca26"
            ],
            [
             1,
             "#f0f921"
            ]
           ],
           "sequentialminus": [
            [
             0,
             "#0d0887"
            ],
            [
             0.1111111111111111,
             "#46039f"
            ],
            [
             0.2222222222222222,
             "#7201a8"
            ],
            [
             0.3333333333333333,
             "#9c179e"
            ],
            [
             0.4444444444444444,
             "#bd3786"
            ],
            [
             0.5555555555555556,
             "#d8576b"
            ],
            [
             0.6666666666666666,
             "#ed7953"
            ],
            [
             0.7777777777777778,
             "#fb9f3a"
            ],
            [
             0.8888888888888888,
             "#fdca26"
            ],
            [
             1,
             "#f0f921"
            ]
           ]
          },
          "colorway": [
           "#636efa",
           "#EF553B",
           "#00cc96",
           "#ab63fa",
           "#FFA15A",
           "#19d3f3",
           "#FF6692",
           "#B6E880",
           "#FF97FF",
           "#FECB52"
          ],
          "font": {
           "color": "#2a3f5f"
          },
          "geo": {
           "bgcolor": "white",
           "lakecolor": "white",
           "landcolor": "#E5ECF6",
           "showlakes": true,
           "showland": true,
           "subunitcolor": "white"
          },
          "hoverlabel": {
           "align": "left"
          },
          "hovermode": "closest",
          "mapbox": {
           "style": "light"
          },
          "paper_bgcolor": "white",
          "plot_bgcolor": "#E5ECF6",
          "polar": {
           "angularaxis": {
            "gridcolor": "white",
            "linecolor": "white",
            "ticks": ""
           },
           "bgcolor": "#E5ECF6",
           "radialaxis": {
            "gridcolor": "white",
            "linecolor": "white",
            "ticks": ""
           }
          },
          "scene": {
           "xaxis": {
            "backgroundcolor": "#E5ECF6",
            "gridcolor": "white",
            "gridwidth": 2,
            "linecolor": "white",
            "showbackground": true,
            "ticks": "",
            "zerolinecolor": "white"
           },
           "yaxis": {
            "backgroundcolor": "#E5ECF6",
            "gridcolor": "white",
            "gridwidth": 2,
            "linecolor": "white",
            "showbackground": true,
            "ticks": "",
            "zerolinecolor": "white"
           },
           "zaxis": {
            "backgroundcolor": "#E5ECF6",
            "gridcolor": "white",
            "gridwidth": 2,
            "linecolor": "white",
            "showbackground": true,
            "ticks": "",
            "zerolinecolor": "white"
           }
          },
          "shapedefaults": {
           "line": {
            "color": "#2a3f5f"
           }
          },
          "ternary": {
           "aaxis": {
            "gridcolor": "white",
            "linecolor": "white",
            "ticks": ""
           },
           "baxis": {
            "gridcolor": "white",
            "linecolor": "white",
            "ticks": ""
           },
           "bgcolor": "#E5ECF6",
           "caxis": {
            "gridcolor": "white",
            "linecolor": "white",
            "ticks": ""
           }
          },
          "title": {
           "x": 0.05
          },
          "xaxis": {
           "automargin": true,
           "gridcolor": "white",
           "linecolor": "white",
           "ticks": "",
           "title": {
            "standoff": 15
           },
           "zerolinecolor": "white",
           "zerolinewidth": 2
          },
          "yaxis": {
           "automargin": true,
           "gridcolor": "white",
           "linecolor": "white",
           "ticks": "",
           "title": {
            "standoff": 15
           },
           "zerolinecolor": "white",
           "zerolinewidth": 2
          }
         }
        },
        "title": {
         "text": "MM Mid Price Over Time"
        },
        "xaxis": {
         "anchor": "y",
         "domain": [
          0,
          1
         ],
         "title": {
          "text": "Timestamp"
         }
        },
        "yaxis": {
         "anchor": "x",
         "domain": [
          0,
          1
         ],
         "title": {
          "text": "MM Mid Price"
         }
        }
       }
      }
     },
     "metadata": {},
     "output_type": "display_data"
    }
   ],
   "source": [
    "# Create the plot using Plotly Express\n",
    "fig = px.line(squid_ink_data, x='timestamp', y='mm_mid', title='MM Mid Price Over Time')\n",
    "\n",
    "# Customize the layout\n",
    "fig.update_layout(\n",
    "    xaxis_title='Timestamp',\n",
    "    yaxis_title='MM Mid Price',\n",
    ")\n",
    "\n",
    "# Display the plot\n",
    "fig.show()"
   ]
  },
  {
   "cell_type": "code",
   "execution_count": 13,
   "id": "de7a72b9",
   "metadata": {
    "ExecuteTime": {
     "end_time": "2024-04-10T21:45:00.223265Z",
     "start_time": "2024-04-10T21:45:00.217318Z"
    }
   },
   "outputs": [],
   "source": [
    "squid_ink_fair_prices = squid_ink_data[['timestamp', 'mm_mid']]"
   ]
  },
  {
   "cell_type": "code",
   "execution_count": 14,
   "id": "9d18ee34",
   "metadata": {
    "ExecuteTime": {
     "end_time": "2024-04-10T21:45:00.754902Z",
     "start_time": "2024-04-10T21:45:00.749295Z"
    }
   },
   "outputs": [],
   "source": [
    "squid_ink_fair_prices = squid_ink_fair_prices.rename(columns={'mm_mid': 'fair'})"
   ]
  },
  {
   "cell_type": "code",
   "execution_count": 15,
   "id": "bb1ddc5e",
   "metadata": {
    "ExecuteTime": {
     "end_time": "2024-04-10T21:45:01.036185Z",
     "start_time": "2024-04-10T21:45:01.021015Z"
    }
   },
   "outputs": [
    {
     "data": {
      "text/html": [
       "<div>\n",
       "<style scoped>\n",
       "    .dataframe tbody tr th:only-of-type {\n",
       "        vertical-align: middle;\n",
       "    }\n",
       "\n",
       "    .dataframe tbody tr th {\n",
       "        vertical-align: top;\n",
       "    }\n",
       "\n",
       "    .dataframe thead th {\n",
       "        text-align: right;\n",
       "    }\n",
       "</style>\n",
       "<table border=\"1\" class=\"dataframe\">\n",
       "  <thead>\n",
       "    <tr style=\"text-align: right;\">\n",
       "      <th></th>\n",
       "      <th>timestamp</th>\n",
       "      <th>fair</th>\n",
       "    </tr>\n",
       "  </thead>\n",
       "  <tbody>\n",
       "    <tr>\n",
       "      <th>0</th>\n",
       "      <td>0</td>\n",
       "      <td>2004.0</td>\n",
       "    </tr>\n",
       "    <tr>\n",
       "      <th>1</th>\n",
       "      <td>100</td>\n",
       "      <td>2005.5</td>\n",
       "    </tr>\n",
       "    <tr>\n",
       "      <th>2</th>\n",
       "      <td>200</td>\n",
       "      <td>2004.5</td>\n",
       "    </tr>\n",
       "    <tr>\n",
       "      <th>3</th>\n",
       "      <td>300</td>\n",
       "      <td>2004.5</td>\n",
       "    </tr>\n",
       "    <tr>\n",
       "      <th>4</th>\n",
       "      <td>400</td>\n",
       "      <td>2005.5</td>\n",
       "    </tr>\n",
       "    <tr>\n",
       "      <th>...</th>\n",
       "      <td>...</td>\n",
       "      <td>...</td>\n",
       "    </tr>\n",
       "    <tr>\n",
       "      <th>9995</th>\n",
       "      <td>999500</td>\n",
       "      <td>1971.5</td>\n",
       "    </tr>\n",
       "    <tr>\n",
       "      <th>9996</th>\n",
       "      <td>999600</td>\n",
       "      <td>1972.5</td>\n",
       "    </tr>\n",
       "    <tr>\n",
       "      <th>9997</th>\n",
       "      <td>999700</td>\n",
       "      <td>1972.5</td>\n",
       "    </tr>\n",
       "    <tr>\n",
       "      <th>9998</th>\n",
       "      <td>999800</td>\n",
       "      <td>1973.5</td>\n",
       "    </tr>\n",
       "    <tr>\n",
       "      <th>9999</th>\n",
       "      <td>999900</td>\n",
       "      <td>1972.5</td>\n",
       "    </tr>\n",
       "  </tbody>\n",
       "</table>\n",
       "<p>10000 rows × 2 columns</p>\n",
       "</div>"
      ],
      "text/plain": [
       "      timestamp    fair\n",
       "0             0  2004.0\n",
       "1           100  2005.5\n",
       "2           200  2004.5\n",
       "3           300  2004.5\n",
       "4           400  2005.5\n",
       "...         ...     ...\n",
       "9995     999500  1971.5\n",
       "9996     999600  1972.5\n",
       "9997     999700  1972.5\n",
       "9998     999800  1973.5\n",
       "9999     999900  1972.5\n",
       "\n",
       "[10000 rows x 2 columns]"
      ]
     },
     "execution_count": 15,
     "metadata": {},
     "output_type": "execute_result"
    }
   ],
   "source": [
    "squid_ink_fair_prices"
   ]
  },
  {
   "cell_type": "code",
   "execution_count": 16,
   "id": "6f8bd207",
   "metadata": {
    "ExecuteTime": {
     "end_time": "2024-04-10T21:45:01.276711Z",
     "start_time": "2024-04-10T21:45:01.272417Z"
    }
   },
   "outputs": [],
   "source": [
    "iteration_counts = [1,2,5,10,50, 100, 500,] # we lose too much data with 1000 "
   ]
  },
  {
   "cell_type": "code",
   "execution_count": 17,
   "id": "ea816e88",
   "metadata": {
    "ExecuteTime": {
     "end_time": "2024-04-10T21:45:01.777780Z",
     "start_time": "2024-04-10T21:45:01.764221Z"
    }
   },
   "outputs": [],
   "source": [
    "for iterations in iteration_counts:\n",
    "    squid_ink_fair_prices[f\"fair_in_{iterations}_its\"] = squid_ink_fair_prices['fair'].shift(-iterations)\n",
    "    squid_ink_fair_prices[f\"fair_{iterations}_its_ago\"] = squid_ink_fair_prices['fair'].shift(iterations)"
   ]
  },
  {
   "cell_type": "code",
   "execution_count": 18,
   "id": "b7023934",
   "metadata": {
    "ExecuteTime": {
     "end_time": "2024-04-10T21:45:02.146790Z",
     "start_time": "2024-04-10T21:45:02.110863Z"
    }
   },
   "outputs": [
    {
     "data": {
      "text/html": [
       "<div>\n",
       "<style scoped>\n",
       "    .dataframe tbody tr th:only-of-type {\n",
       "        vertical-align: middle;\n",
       "    }\n",
       "\n",
       "    .dataframe tbody tr th {\n",
       "        vertical-align: top;\n",
       "    }\n",
       "\n",
       "    .dataframe thead th {\n",
       "        text-align: right;\n",
       "    }\n",
       "</style>\n",
       "<table border=\"1\" class=\"dataframe\">\n",
       "  <thead>\n",
       "    <tr style=\"text-align: right;\">\n",
       "      <th></th>\n",
       "      <th>timestamp</th>\n",
       "      <th>fair</th>\n",
       "      <th>fair_in_1_its</th>\n",
       "      <th>fair_1_its_ago</th>\n",
       "      <th>fair_in_2_its</th>\n",
       "      <th>fair_2_its_ago</th>\n",
       "      <th>fair_in_5_its</th>\n",
       "      <th>fair_5_its_ago</th>\n",
       "      <th>fair_in_10_its</th>\n",
       "      <th>fair_10_its_ago</th>\n",
       "      <th>fair_in_50_its</th>\n",
       "      <th>fair_50_its_ago</th>\n",
       "      <th>fair_in_100_its</th>\n",
       "      <th>fair_100_its_ago</th>\n",
       "      <th>fair_in_500_its</th>\n",
       "      <th>fair_500_its_ago</th>\n",
       "    </tr>\n",
       "  </thead>\n",
       "  <tbody>\n",
       "    <tr>\n",
       "      <th>0</th>\n",
       "      <td>0</td>\n",
       "      <td>2004.0</td>\n",
       "      <td>2005.5</td>\n",
       "      <td>NaN</td>\n",
       "      <td>2004.5</td>\n",
       "      <td>NaN</td>\n",
       "      <td>2005.5</td>\n",
       "      <td>NaN</td>\n",
       "      <td>2007.0</td>\n",
       "      <td>NaN</td>\n",
       "      <td>2015.5</td>\n",
       "      <td>NaN</td>\n",
       "      <td>2020.5</td>\n",
       "      <td>NaN</td>\n",
       "      <td>1988.5</td>\n",
       "      <td>NaN</td>\n",
       "    </tr>\n",
       "    <tr>\n",
       "      <th>1</th>\n",
       "      <td>100</td>\n",
       "      <td>2005.5</td>\n",
       "      <td>2004.5</td>\n",
       "      <td>2004.0</td>\n",
       "      <td>2004.5</td>\n",
       "      <td>NaN</td>\n",
       "      <td>2006.0</td>\n",
       "      <td>NaN</td>\n",
       "      <td>2008.0</td>\n",
       "      <td>NaN</td>\n",
       "      <td>2015.5</td>\n",
       "      <td>NaN</td>\n",
       "      <td>2024.0</td>\n",
       "      <td>NaN</td>\n",
       "      <td>1988.0</td>\n",
       "      <td>NaN</td>\n",
       "    </tr>\n",
       "    <tr>\n",
       "      <th>2</th>\n",
       "      <td>200</td>\n",
       "      <td>2004.5</td>\n",
       "      <td>2004.5</td>\n",
       "      <td>2005.5</td>\n",
       "      <td>2005.5</td>\n",
       "      <td>2004.0</td>\n",
       "      <td>2007.0</td>\n",
       "      <td>NaN</td>\n",
       "      <td>2007.5</td>\n",
       "      <td>NaN</td>\n",
       "      <td>2016.0</td>\n",
       "      <td>NaN</td>\n",
       "      <td>2020.5</td>\n",
       "      <td>NaN</td>\n",
       "      <td>1987.5</td>\n",
       "      <td>NaN</td>\n",
       "    </tr>\n",
       "    <tr>\n",
       "      <th>3</th>\n",
       "      <td>300</td>\n",
       "      <td>2004.5</td>\n",
       "      <td>2005.5</td>\n",
       "      <td>2004.5</td>\n",
       "      <td>2005.5</td>\n",
       "      <td>2005.5</td>\n",
       "      <td>2007.0</td>\n",
       "      <td>NaN</td>\n",
       "      <td>2008.5</td>\n",
       "      <td>NaN</td>\n",
       "      <td>2016.0</td>\n",
       "      <td>NaN</td>\n",
       "      <td>2020.5</td>\n",
       "      <td>NaN</td>\n",
       "      <td>1988.0</td>\n",
       "      <td>NaN</td>\n",
       "    </tr>\n",
       "    <tr>\n",
       "      <th>4</th>\n",
       "      <td>400</td>\n",
       "      <td>2005.5</td>\n",
       "      <td>2005.5</td>\n",
       "      <td>2004.5</td>\n",
       "      <td>2006.0</td>\n",
       "      <td>2004.5</td>\n",
       "      <td>2006.5</td>\n",
       "      <td>NaN</td>\n",
       "      <td>2007.5</td>\n",
       "      <td>NaN</td>\n",
       "      <td>2015.5</td>\n",
       "      <td>NaN</td>\n",
       "      <td>2019.5</td>\n",
       "      <td>NaN</td>\n",
       "      <td>1988.5</td>\n",
       "      <td>NaN</td>\n",
       "    </tr>\n",
       "    <tr>\n",
       "      <th>...</th>\n",
       "      <td>...</td>\n",
       "      <td>...</td>\n",
       "      <td>...</td>\n",
       "      <td>...</td>\n",
       "      <td>...</td>\n",
       "      <td>...</td>\n",
       "      <td>...</td>\n",
       "      <td>...</td>\n",
       "      <td>...</td>\n",
       "      <td>...</td>\n",
       "      <td>...</td>\n",
       "      <td>...</td>\n",
       "      <td>...</td>\n",
       "      <td>...</td>\n",
       "      <td>...</td>\n",
       "      <td>...</td>\n",
       "    </tr>\n",
       "    <tr>\n",
       "      <th>9995</th>\n",
       "      <td>999500</td>\n",
       "      <td>1971.5</td>\n",
       "      <td>1972.5</td>\n",
       "      <td>1971.5</td>\n",
       "      <td>1972.5</td>\n",
       "      <td>1969.5</td>\n",
       "      <td>NaN</td>\n",
       "      <td>1971.0</td>\n",
       "      <td>NaN</td>\n",
       "      <td>1973.5</td>\n",
       "      <td>NaN</td>\n",
       "      <td>1965.0</td>\n",
       "      <td>NaN</td>\n",
       "      <td>1968.0</td>\n",
       "      <td>NaN</td>\n",
       "      <td>1992.5</td>\n",
       "    </tr>\n",
       "    <tr>\n",
       "      <th>9996</th>\n",
       "      <td>999600</td>\n",
       "      <td>1972.5</td>\n",
       "      <td>1972.5</td>\n",
       "      <td>1971.5</td>\n",
       "      <td>1973.5</td>\n",
       "      <td>1971.5</td>\n",
       "      <td>NaN</td>\n",
       "      <td>1971.5</td>\n",
       "      <td>NaN</td>\n",
       "      <td>1972.5</td>\n",
       "      <td>NaN</td>\n",
       "      <td>1967.0</td>\n",
       "      <td>NaN</td>\n",
       "      <td>1968.5</td>\n",
       "      <td>NaN</td>\n",
       "      <td>1992.5</td>\n",
       "    </tr>\n",
       "    <tr>\n",
       "      <th>9997</th>\n",
       "      <td>999700</td>\n",
       "      <td>1972.5</td>\n",
       "      <td>1973.5</td>\n",
       "      <td>1972.5</td>\n",
       "      <td>1972.5</td>\n",
       "      <td>1971.5</td>\n",
       "      <td>NaN</td>\n",
       "      <td>1971.5</td>\n",
       "      <td>NaN</td>\n",
       "      <td>1972.5</td>\n",
       "      <td>NaN</td>\n",
       "      <td>1966.5</td>\n",
       "      <td>NaN</td>\n",
       "      <td>1969.0</td>\n",
       "      <td>NaN</td>\n",
       "      <td>1992.5</td>\n",
       "    </tr>\n",
       "    <tr>\n",
       "      <th>9998</th>\n",
       "      <td>999800</td>\n",
       "      <td>1973.5</td>\n",
       "      <td>1972.5</td>\n",
       "      <td>1972.5</td>\n",
       "      <td>NaN</td>\n",
       "      <td>1972.5</td>\n",
       "      <td>NaN</td>\n",
       "      <td>1969.5</td>\n",
       "      <td>NaN</td>\n",
       "      <td>1971.5</td>\n",
       "      <td>NaN</td>\n",
       "      <td>1963.5</td>\n",
       "      <td>NaN</td>\n",
       "      <td>1968.5</td>\n",
       "      <td>NaN</td>\n",
       "      <td>1998.5</td>\n",
       "    </tr>\n",
       "    <tr>\n",
       "      <th>9999</th>\n",
       "      <td>999900</td>\n",
       "      <td>1972.5</td>\n",
       "      <td>NaN</td>\n",
       "      <td>1973.5</td>\n",
       "      <td>NaN</td>\n",
       "      <td>1972.5</td>\n",
       "      <td>NaN</td>\n",
       "      <td>1971.5</td>\n",
       "      <td>NaN</td>\n",
       "      <td>1971.5</td>\n",
       "      <td>NaN</td>\n",
       "      <td>1964.5</td>\n",
       "      <td>NaN</td>\n",
       "      <td>1965.5</td>\n",
       "      <td>NaN</td>\n",
       "      <td>1999.0</td>\n",
       "    </tr>\n",
       "  </tbody>\n",
       "</table>\n",
       "<p>10000 rows × 16 columns</p>\n",
       "</div>"
      ],
      "text/plain": [
       "      timestamp    fair  fair_in_1_its  fair_1_its_ago  fair_in_2_its  \\\n",
       "0             0  2004.0         2005.5             NaN         2004.5   \n",
       "1           100  2005.5         2004.5          2004.0         2004.5   \n",
       "2           200  2004.5         2004.5          2005.5         2005.5   \n",
       "3           300  2004.5         2005.5          2004.5         2005.5   \n",
       "4           400  2005.5         2005.5          2004.5         2006.0   \n",
       "...         ...     ...            ...             ...            ...   \n",
       "9995     999500  1971.5         1972.5          1971.5         1972.5   \n",
       "9996     999600  1972.5         1972.5          1971.5         1973.5   \n",
       "9997     999700  1972.5         1973.5          1972.5         1972.5   \n",
       "9998     999800  1973.5         1972.5          1972.5            NaN   \n",
       "9999     999900  1972.5            NaN          1973.5            NaN   \n",
       "\n",
       "      fair_2_its_ago  fair_in_5_its  fair_5_its_ago  fair_in_10_its  \\\n",
       "0                NaN         2005.5             NaN          2007.0   \n",
       "1                NaN         2006.0             NaN          2008.0   \n",
       "2             2004.0         2007.0             NaN          2007.5   \n",
       "3             2005.5         2007.0             NaN          2008.5   \n",
       "4             2004.5         2006.5             NaN          2007.5   \n",
       "...              ...            ...             ...             ...   \n",
       "9995          1969.5            NaN          1971.0             NaN   \n",
       "9996          1971.5            NaN          1971.5             NaN   \n",
       "9997          1971.5            NaN          1971.5             NaN   \n",
       "9998          1972.5            NaN          1969.5             NaN   \n",
       "9999          1972.5            NaN          1971.5             NaN   \n",
       "\n",
       "      fair_10_its_ago  fair_in_50_its  fair_50_its_ago  fair_in_100_its  \\\n",
       "0                 NaN          2015.5              NaN           2020.5   \n",
       "1                 NaN          2015.5              NaN           2024.0   \n",
       "2                 NaN          2016.0              NaN           2020.5   \n",
       "3                 NaN          2016.0              NaN           2020.5   \n",
       "4                 NaN          2015.5              NaN           2019.5   \n",
       "...               ...             ...              ...              ...   \n",
       "9995           1973.5             NaN           1965.0              NaN   \n",
       "9996           1972.5             NaN           1967.0              NaN   \n",
       "9997           1972.5             NaN           1966.5              NaN   \n",
       "9998           1971.5             NaN           1963.5              NaN   \n",
       "9999           1971.5             NaN           1964.5              NaN   \n",
       "\n",
       "      fair_100_its_ago  fair_in_500_its  fair_500_its_ago  \n",
       "0                  NaN           1988.5               NaN  \n",
       "1                  NaN           1988.0               NaN  \n",
       "2                  NaN           1987.5               NaN  \n",
       "3                  NaN           1988.0               NaN  \n",
       "4                  NaN           1988.5               NaN  \n",
       "...                ...              ...               ...  \n",
       "9995            1968.0              NaN            1992.5  \n",
       "9996            1968.5              NaN            1992.5  \n",
       "9997            1969.0              NaN            1992.5  \n",
       "9998            1968.5              NaN            1998.5  \n",
       "9999            1965.5              NaN            1999.0  \n",
       "\n",
       "[10000 rows x 16 columns]"
      ]
     },
     "execution_count": 18,
     "metadata": {},
     "output_type": "execute_result"
    }
   ],
   "source": [
    "squid_ink_fair_prices"
   ]
  },
  {
   "cell_type": "code",
   "execution_count": 19,
   "id": "3b67ed20",
   "metadata": {
    "ExecuteTime": {
     "end_time": "2024-04-10T21:45:02.652819Z",
     "start_time": "2024-04-10T21:45:02.634216Z"
    }
   },
   "outputs": [],
   "source": [
    "for iterations in iteration_counts:\n",
    "    squid_ink_fair_prices[f'returns_in_{iterations}_its'] = (squid_ink_fair_prices[f'fair_in_{iterations}_its'] - squid_ink_fair_prices['fair'])/squid_ink_fair_prices['fair']\n",
    "    squid_ink_fair_prices[f'returns_from_{iterations}_its_ago'] = (squid_ink_fair_prices['fair'] - squid_ink_fair_prices[f'fair_{iterations}_its_ago'])/squid_ink_fair_prices[f'fair_{iterations}_its_ago']"
   ]
  },
  {
   "cell_type": "code",
   "execution_count": 20,
   "id": "67820ea7",
   "metadata": {
    "ExecuteTime": {
     "end_time": "2024-04-10T21:45:03.156744Z",
     "start_time": "2024-04-10T21:45:03.149558Z"
    },
    "scrolled": false
   },
   "outputs": [
    {
     "data": {
      "text/plain": [
       "Index(['timestamp', 'fair', 'fair_in_1_its', 'fair_1_its_ago', 'fair_in_2_its',\n",
       "       'fair_2_its_ago', 'fair_in_5_its', 'fair_5_its_ago', 'fair_in_10_its',\n",
       "       'fair_10_its_ago', 'fair_in_50_its', 'fair_50_its_ago',\n",
       "       'fair_in_100_its', 'fair_100_its_ago', 'fair_in_500_its',\n",
       "       'fair_500_its_ago', 'returns_in_1_its', 'returns_from_1_its_ago',\n",
       "       'returns_in_2_its', 'returns_from_2_its_ago', 'returns_in_5_its',\n",
       "       'returns_from_5_its_ago', 'returns_in_10_its',\n",
       "       'returns_from_10_its_ago', 'returns_in_50_its',\n",
       "       'returns_from_50_its_ago', 'returns_in_100_its',\n",
       "       'returns_from_100_its_ago', 'returns_in_500_its',\n",
       "       'returns_from_500_its_ago'],\n",
       "      dtype='object')"
      ]
     },
     "execution_count": 20,
     "metadata": {},
     "output_type": "execute_result"
    }
   ],
   "source": [
    "squid_ink_fair_prices.columns"
   ]
  },
  {
   "cell_type": "code",
   "execution_count": 21,
   "id": "df76823e",
   "metadata": {
    "ExecuteTime": {
     "end_time": "2024-04-10T21:45:03.613358Z",
     "start_time": "2024-04-10T21:45:03.604671Z"
    }
   },
   "outputs": [],
   "source": [
    "squid_ink_returns = squid_ink_fair_prices[['timestamp','fair','returns_in_1_its', 'returns_from_1_its_ago',\n",
    "       'returns_in_2_its', 'returns_from_2_its_ago', 'returns_in_5_its',\n",
    "       'returns_from_5_its_ago', 'returns_in_10_its',\n",
    "       'returns_from_10_its_ago', 'returns_in_50_its',\n",
    "       'returns_from_50_its_ago', 'returns_in_100_its',\n",
    "       'returns_from_100_its_ago', 'returns_in_500_its',\n",
    "       'returns_from_500_its_ago']]"
   ]
  },
  {
   "cell_type": "code",
   "execution_count": 22,
   "id": "7682b2ae",
   "metadata": {
    "ExecuteTime": {
     "end_time": "2024-04-10T21:45:04.007904Z",
     "start_time": "2024-04-10T21:45:03.997192Z"
    }
   },
   "outputs": [],
   "source": [
    "squid_ink_returns= squid_ink_returns.dropna()"
   ]
  },
  {
   "cell_type": "code",
   "execution_count": 23,
   "id": "d96a4472",
   "metadata": {
    "ExecuteTime": {
     "end_time": "2024-04-10T21:45:04.436470Z",
     "start_time": "2024-04-10T21:45:04.423695Z"
    }
   },
   "outputs": [
    {
     "data": {
      "text/plain": [
       "timestamp                   500081.745933\n",
       "fair                          1968.280641\n",
       "returns_in_1_its                -0.000001\n",
       "returns_from_1_its_ago          -0.000003\n",
       "returns_in_2_its                 0.000004\n",
       "returns_from_2_its_ago           0.000002\n",
       "returns_in_5_its                -0.000005\n",
       "returns_from_5_its_ago          -0.000002\n",
       "returns_in_10_its               -0.000006\n",
       "returns_from_10_its_ago         -0.000003\n",
       "returns_in_50_its                0.000156\n",
       "returns_from_50_its_ago         -0.000025\n",
       "returns_in_100_its               0.000344\n",
       "returns_from_100_its_ago         0.000005\n",
       "returns_in_500_its               0.000732\n",
       "returns_from_500_its_ago        -0.001041\n",
       "dtype: float64"
      ]
     },
     "execution_count": 23,
     "metadata": {},
     "output_type": "execute_result"
    }
   ],
   "source": [
    "squid_ink_returns.mean()"
   ]
  },
  {
   "cell_type": "code",
   "execution_count": 24,
   "id": "437c43a1",
   "metadata": {
    "ExecuteTime": {
     "end_time": "2024-04-10T21:45:04.996399Z",
     "start_time": "2024-04-10T21:45:04.933473Z"
    }
   },
   "outputs": [
    {
     "name": "stderr",
     "output_type": "stream",
     "text": [
      "100%|██████████| 7/7 [00:00<00:00, 232.17it/s]"
     ]
    },
    {
     "name": "stdout",
     "output_type": "stream",
     "text": [
      "Iteration Count: 1\n",
      "Learned Equation: returns_in_1_its = -0.3414 * returns_from_1_its_ago\n",
      "Train R-squared: 0.0969\n",
      "Train MSE: 0.0000\n",
      "Test R-squared: -0.0560\n",
      "Test MSE: 0.0000\n",
      "\n",
      "Iteration Count: 2\n",
      "Learned Equation: returns_in_2_its = -0.3351 * returns_from_2_its_ago\n",
      "Train R-squared: 0.1155\n",
      "Train MSE: 0.0000\n",
      "Test R-squared: -0.0907\n",
      "Test MSE: 0.0000\n",
      "\n",
      "Iteration Count: 5\n",
      "Learned Equation: returns_in_5_its = -0.1385 * returns_from_5_its_ago\n",
      "Train R-squared: 0.0206\n",
      "Train MSE: 0.0000\n",
      "Test R-squared: 0.0060\n",
      "Test MSE: 0.0000\n",
      "\n",
      "Iteration Count: 10\n",
      "Learned Equation: returns_in_10_its = -0.0572 * returns_from_10_its_ago\n",
      "Train R-squared: 0.0037\n",
      "Train MSE: 0.0000\n",
      "Test R-squared: 0.0056\n",
      "Test MSE: 0.0000\n",
      "\n",
      "Iteration Count: 50\n",
      "Learned Equation: returns_in_50_its = -0.1058 * returns_from_50_its_ago\n",
      "Train R-squared: 0.0097\n",
      "Train MSE: 0.0000\n",
      "Test R-squared: 0.0239\n",
      "Test MSE: 0.0000\n",
      "\n",
      "Iteration Count: 100\n",
      "Learned Equation: returns_in_100_its = -0.0787 * returns_from_100_its_ago\n",
      "Train R-squared: 0.0029\n",
      "Train MSE: 0.0000\n",
      "Test R-squared: 0.0107\n",
      "Test MSE: 0.0000\n",
      "\n",
      "Iteration Count: 500\n",
      "Learned Equation: returns_in_500_its = 0.0276 * returns_from_500_its_ago\n",
      "Train R-squared: -0.0026\n",
      "Train MSE: 0.0002\n",
      "Test R-squared: -0.0055\n",
      "Test MSE: 0.0002\n",
      "\n"
     ]
    },
    {
     "name": "stderr",
     "output_type": "stream",
     "text": [
      "\n"
     ]
    }
   ],
   "source": [
    "from sklearn.model_selection import train_test_split\n",
    "from sklearn.linear_model import LinearRegression\n",
    "from sklearn.metrics import r2_score, mean_squared_error\n",
    "from tqdm import tqdm\n",
    "\n",
    "# Perform train-test split\n",
    "train_data, test_data = train_test_split(squid_ink_returns, test_size=0.2, random_state=42)\n",
    "\n",
    "# Iterate over each iteration count\n",
    "for iterations in tqdm(iteration_counts):\n",
    "    # Prepare the feature and target columns\n",
    "    X_train = train_data[f'returns_from_{iterations}_its_ago'].values.reshape(-1, 1)\n",
    "    y_train = train_data[f'returns_in_{iterations}_its']\n",
    "    X_test = test_data[f'returns_from_{iterations}_its_ago'].values.reshape(-1, 1)\n",
    "    y_test = test_data[f'returns_in_{iterations}_its']\n",
    "\n",
    "    # Create and train the linear regression model\n",
    "    model = LinearRegression(fit_intercept=False)\n",
    "    model.fit(X_train, y_train)\n",
    "\n",
    "    # Make predictions on train and test data\n",
    "    train_predictions = model.predict(X_train)\n",
    "    test_predictions = model.predict(X_test)\n",
    "\n",
    "    # Calculate R-squared and MSE for train and test data\n",
    "    train_r2 = r2_score(y_train, train_predictions)\n",
    "    train_mse = mean_squared_error(y_train, train_predictions)\n",
    "    test_r2 = r2_score(y_test, test_predictions)\n",
    "    test_mse = mean_squared_error(y_test, test_predictions)\n",
    "\n",
    "    # Print the results\n",
    "    print(f\"Iteration Count: {iterations}\")\n",
    "    print(f\"Learned Equation: returns_in_{iterations}_its = {model.coef_[0]:.4f} * returns_from_{iterations}_its_ago\")\n",
    "    print(f\"Train R-squared: {train_r2:.4f}\")\n",
    "    print(f\"Train MSE: {train_mse:.4f}\")\n",
    "    print(f\"Test R-squared: {test_r2:.4f}\")\n",
    "    print(f\"Test MSE: {test_mse:.4f}\")\n",
    "    print()"
   ]
  },
  {
   "cell_type": "code",
   "execution_count": 25,
   "id": "a062eeee",
   "metadata": {
    "ExecuteTime": {
     "end_time": "2024-04-10T21:15:36.688890Z",
     "start_time": "2024-04-10T21:13:51.644762Z"
    }
   },
   "outputs": [
    {
     "name": "stdout",
     "output_type": "stream",
     "text": [
      "Requirement already satisfied: scikit-learn in c:\\users\\timi2\\appdata\\local\\programs\\python\\python310\\lib\\site-packages (1.6.1)\n",
      "Requirement already satisfied: numpy>=1.19.5 in c:\\users\\timi2\\appdata\\local\\programs\\python\\python310\\lib\\site-packages (from scikit-learn) (2.2.4)\n",
      "Requirement already satisfied: scipy>=1.6.0 in c:\\users\\timi2\\appdata\\local\\programs\\python\\python310\\lib\\site-packages (from scikit-learn) (1.15.2)\n",
      "Requirement already satisfied: joblib>=1.2.0 in c:\\users\\timi2\\appdata\\local\\programs\\python\\python310\\lib\\site-packages (from scikit-learn) (1.4.2)\n",
      "Requirement already satisfied: threadpoolctl>=3.1.0 in c:\\users\\timi2\\appdata\\local\\programs\\python\\python310\\lib\\site-packages (from scikit-learn) (3.6.0)\n"
     ]
    }
   ],
   "source": [
    "!pip install scikit-learn"
   ]
  },
  {
   "cell_type": "code",
   "execution_count": 26,
   "id": "67d6c28c",
   "metadata": {
    "ExecuteTime": {
     "end_time": "2024-04-10T21:30:04.395007Z",
     "start_time": "2024-04-10T21:30:04.381592Z"
    }
   },
   "outputs": [
    {
     "data": {
      "text/plain": [
       "0.0002"
      ]
     },
     "execution_count": 26,
     "metadata": {},
     "output_type": "execute_result"
    }
   ],
   "source": [
    "1/5000"
   ]
  },
  {
   "cell_type": "code",
   "execution_count": 27,
   "id": "0ece5ba0",
   "metadata": {
    "ExecuteTime": {
     "end_time": "2024-04-10T21:30:13.756308Z",
     "start_time": "2024-04-10T21:30:13.750539Z"
    }
   },
   "outputs": [
    {
     "data": {
      "text/plain": [
       "-4.442e-05"
      ]
     },
     "execution_count": 27,
     "metadata": {},
     "output_type": "execute_result"
    }
   ],
   "source": [
    "-0.2221*1/5000"
   ]
  },
  {
   "cell_type": "code",
   "execution_count": 28,
   "id": "d7ec3b72",
   "metadata": {
    "ExecuteTime": {
     "end_time": "2024-04-10T21:31:46.780077Z",
     "start_time": "2024-04-10T21:31:46.769135Z"
    }
   },
   "outputs": [
    {
     "data": {
      "text/plain": [
       "-0.2221"
      ]
     },
     "execution_count": 28,
     "metadata": {},
     "output_type": "execute_result"
    }
   ],
   "source": [
    "_ * 5000"
   ]
  },
  {
   "cell_type": "code",
   "execution_count": 29,
   "id": "4e1ee308",
   "metadata": {},
   "outputs": [
    {
     "name": "stdout",
     "output_type": "stream",
     "text": [
      "Reversion Beta: 0.9965006148376157\n"
     ]
    }
   ],
   "source": [
    "# Assuming squid_ink_data already filtered and sorted by timestamp\n",
    "squid_ink_data['mid_price_t-1'] = squid_ink_data['mid_price'].shift(1)\n",
    "\n",
    "# Drop NaNs introduced by shift\n",
    "squid_ink_clean = squid_ink_data.dropna(subset=['mid_price', 'mid_price_t-1'])\n",
    "\n",
    "# Reversion beta = slope of regressing current mid_price on lagged mid_price\n",
    "from sklearn.linear_model import LinearRegression\n",
    "\n",
    "X = squid_ink_clean[['mid_price_t-1']]\n",
    "y = squid_ink_clean['mid_price']\n",
    "\n",
    "model = LinearRegression().fit(X, y)\n",
    "reversion_beta = model.coef_[0]\n",
    "print(\"Reversion Beta:\", reversion_beta)\n"
   ]
  }
 ],
 "metadata": {
  "kernelspec": {
   "display_name": "Python 3",
   "language": "python",
   "name": "python3"
  },
  "language_info": {
   "codemirror_mode": {
    "name": "ipython",
    "version": 3
   },
   "file_extension": ".py",
   "mimetype": "text/x-python",
   "name": "python",
   "nbconvert_exporter": "python",
   "pygments_lexer": "ipython3",
   "version": "3.10.4"
  },
  "toc": {
   "base_numbering": 1,
   "nav_menu": {},
   "number_sections": true,
   "sideBar": true,
   "skip_h1_title": false,
   "title_cell": "Table of Contents",
   "title_sidebar": "Contents",
   "toc_cell": false,
   "toc_position": {},
   "toc_section_display": true,
   "toc_window_display": false
  }
 },
 "nbformat": 4,
 "nbformat_minor": 5
}
